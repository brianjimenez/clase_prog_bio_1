{
 "cells": [
  {
   "cell_type": "code",
   "execution_count": 26,
   "metadata": {
    "collapsed": false
   },
   "outputs": [
    {
     "name": "stdout",
     "output_type": "stream",
     "text": [
      "{'CTG': 123}\n"
     ]
    }
   ],
   "source": [
    "import os\n",
    "\n",
    "dna = \"\"\"ACAAGATGCCATTGTCCCCCGGCCTCCTGCTGCTGCTGCTCTCCGGGGCCACGGCCACCGCTGCCCTGCC\n",
    "CCTGGAGGGTGGCCCCACCGGCCGAGACAGCGAGCATATGCAGGAAGCGGCAGGAATAAGGAAAAGCAGC\n",
    "CTCCTGACTTTCCTCGCTTGGTGGTTTGAGTGGACCTCCCAGGCCAGTGCCGGGCCCCTCATAGGAGAGG\n",
    "AAGCTCGGGAGGTGGCCAGGCGGCAGGAAGGCGCACCCCCCCAGCAATCCGCGCGCCGGGACAGAATGCC\n",
    "CTGCAGGAACTTCTTCTGGAAGACCTTCTCCTCCTGCAAATAAAACCTCACCCATGAATGCTCACGCAAG\n",
    "TTTAATTACAGACCTGAA\"\"\"\n",
    "\n",
    "# Contar A's\n",
    "#valor = 5\n",
    "#print 'El número de A es %s, el de C es %s, el de T es %s y el de G es %d, valor=%s'% (dna.count('A'), \n",
    "#                                                                             dna.count('C'),\n",
    "#                                                                             dna.count('T'),\n",
    "#                                                                             dna.count('G'), str(valor))\n",
    "\n",
    "#print len(dna) % 3\n",
    "\n",
    "dna = dna.replace(os.linesep, '')\n",
    "#print dna\n",
    "\n",
    "tripletes = {}\n",
    "\n",
    "# Contar diferentes secuencias de tripletes\n",
    "j = 0\n",
    "for i in range(0, len(dna)-1, 3):\n",
    "    triplete1 = dna[j:i]\n",
    "    j = i\n",
    "    if tripletes.has_key(triplete):\n",
    "        tripletes[triplete] += 1\n",
    "    else:\n",
    "        tripletes[triplete] = 1\n",
    "\n",
    "print tripletes"
   ]
  },
  {
   "cell_type": "code",
   "execution_count": 55,
   "metadata": {
    "collapsed": false
   },
   "outputs": [
    {
     "name": "stdout",
     "output_type": "stream",
     "text": [
      "flexibles\n",
      "\n",
      "rigidas\n",
      "\n",
      "semi\n",
      "\n"
     ]
    }
   ],
   "source": [
    "molecula = \"\"\"\n",
    "ATOM    211  N   TYR A  27       4.697   8.290  -3.031  1.00 13.35           N\n",
    "ATOM    212  CA  TYR A  27       5.025   8.033  -1.616  0.51 11.29           C\n",
    "ATOM    214  C   TYR A  27       4.189   8.932  -0.730  1.00 10.87           C\n",
    "ATOM    215  O   TYR A  27       3.774  10.030  -1.101  1.00 12.90           O\n",
    "ATOM    216  CB  TYR A  27       6.509   8.214  -1.310  0.51 12.65           C\n",
    "ATOM    218  CG  TYR A  27       7.406   7.086  -1.795  0.51 14.00           C\n",
    "ATOM    220  CD1 TYR A  27       7.951   6.144  -0.978  0.51 14.16           C\n",
    "ATOM    222  CD2 TYR A  27       7.674   6.963  -3.164  0.51 17.10           C\n",
    "ATOM    224  CE1 TYR A  27       8.752   5.109  -1.405  0.51 14.93           C\n",
    "ATOM    226  CE2 TYR A  27       8.455   5.964  -3.656  0.51 17.43           C\n",
    "ATOM    228  CZ  TYR A  27       8.990   5.041  -2.763  0.51 16.44           C\n",
    "ATOM    230  OH  TYR A  27       9.803   4.026  -3.237  0.51 17.79           O\n",
    "ATOM    232  N   CYS A  28       3.977   8.402   0.487  1.00 10.53           N\n",
    "ATOM    233  CA  CYS A  28       3.295   9.146   1.517  1.00 10.04           C\n",
    "ATOM    234  C   CYS A  28       4.174  10.264   2.053  1.00 10.31           C\n",
    "ATOM    235  O   CYS A  28       5.378  10.108   2.202  1.00 12.91           O\n",
    "ATOM    236  CB  CYS A  28       2.912   8.210   2.680  1.00  9.81           C\n",
    "ATOM    237  SG  CYS A  28       1.804   6.853   2.197  1.00  9.93           S\n",
    "ATOM    238  N   GLY A  29       3.546  11.391   2.430  1.00 10.76           N\n",
    "ATOM    239  CA  GLY A  29       4.295  12.472   3.049  1.00 11.93           C\n",
    "ATOM    240  C   GLY A  29       3.416  13.524   3.596  1.00 12.60           C\n",
    "ATOM    241  O   GLY A  29       3.985  14.574   4.052  1.00 15.82           O\n",
    "ATOM    242  OXT GLY A  29       2.168  13.386   3.672  1.00 11.37           O\n",
    "\"\"\"\n",
    "\n",
    "# Número de líneas\n",
    "lines = molecula.split(os.linesep)\n",
    "#print len(lines)\n",
    "\n",
    "num_lines = 0\n",
    "for line in lines:\n",
    "    if line.startswith('ATOM'):\n",
    "        num_lines += 1\n",
    "#print num_lines\n",
    "\n",
    "# Occupancy - side chains\n",
    "lines = [line for line in molecula.split(os.linesep) if line.startswith('ATOM')]\n",
    "atoms_with_occupancy = []\n",
    "for line in lines:\n",
    "    fields = line.split()\n",
    "    #print fields\n",
    "    occupancy = float(fields[-3])\n",
    "    if occupancy >= 1.0:\n",
    "        atoms_with_occupancy.append(line)\n",
    "\n",
    "#for line in atoms_with_occupancy:\n",
    "#    print line\n",
    "\n",
    "# B-factor - flexibility\n",
    "lines = [line for line in molecula.split(os.linesep) if line.startswith('ATOM')]\n",
    "\n",
    "# Tres categorías:\n",
    "# - Rígidas: B-factor < 10.0\n",
    "# - Semi-rígidas: B-factor >= 10.0 y B-factor < 13.0\n",
    "# - Flexibles: B-factor >= 13.0\n",
    "\n",
    "atomos_por_categoria = {'rigidas':[], 'semi':[], 'flexibles':[]}\n",
    "for line in lines:\n",
    "    fields = line.split()\n",
    "    bfactor = float(fields[-2])\n",
    "    if bfactor < 10.0:\n",
    "        atomos_por_categoria['rigidas'].append(line)\n",
    "    elif bfactor < 13.0 and bfactor >= 10.0:\n",
    "        atomos_por_categoria['semi'].append(line)\n",
    "    else:\n",
    "        atomos_por_categoria['flexibles'].append(line)\n",
    "\n",
    "for key in atomos_por_categoria.iterkeys():\n",
    "    print key\n",
    "    print"
   ]
  },
  {
   "cell_type": "code",
   "execution_count": 57,
   "metadata": {
    "collapsed": false
   },
   "outputs": [
    {
     "name": "stdout",
     "output_type": "stream",
     "text": [
      "['C20', 'H25', 'N3', 'O']\n"
     ]
    }
   ],
   "source": [
    "molecula = 'C20-H25-N3-O'\n",
    "grupos = molecula.split('-')\n",
    "print grupos\n",
    "for grupo in grupos:\n",
    "    atomo = grupo[0]\n",
    "    if len(grupo[1:]) > 0:\n",
    "        num_atomos = int(grupo[1:])\n",
    "    else:\n",
    "        num_atomos = 1"
   ]
  },
  {
   "cell_type": "code",
   "execution_count": 59,
   "metadata": {
    "collapsed": false
   },
   "outputs": [
    {
     "data": {
      "text/plain": [
       "1"
      ]
     },
     "execution_count": 59,
     "metadata": {},
     "output_type": "execute_result"
    }
   ],
   "source": [
    "int('1')"
   ]
  },
  {
   "cell_type": "code",
   "execution_count": null,
   "metadata": {
    "collapsed": true
   },
   "outputs": [],
   "source": []
  }
 ],
 "metadata": {
  "kernelspec": {
   "display_name": "Python 2",
   "language": "python",
   "name": "python2"
  },
  "language_info": {
   "codemirror_mode": {
    "name": "ipython",
    "version": 2
   },
   "file_extension": ".py",
   "mimetype": "text/x-python",
   "name": "python",
   "nbconvert_exporter": "python",
   "pygments_lexer": "ipython2",
   "version": "2.7.12"
  }
 },
 "nbformat": 4,
 "nbformat_minor": 0
}
